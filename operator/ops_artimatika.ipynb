{
 "cells": [
  {
   "cell_type": "markdown",
   "id": "4cec2274",
   "metadata": {},
   "source": [
    "# Operator Aritmatika\n",
    "- `+` → operasi tambah  \n",
    "- `-` → operasi pengurangan  \n",
    "- `*` → operasi perkalian  \n",
    "- `/` → operasi pembagian  \n",
    "- `//` → operasi bagi dibulatkan ke bawah  \n",
    "- `%` → operasi modulo (sisa hasil bagi)  \n",
    "- `**` → operasi pangkat"
   ]
  },
  {
   "cell_type": "code",
   "execution_count": null,
   "id": "12236777",
   "metadata": {},
   "outputs": [],
   "source": [
    "print(\"=== ARITMATIKA ===\")\n",
    "nilai_1 = 5\n",
    "nilai_2 = 10\n",
    "\n",
    "hasil = nilai_1 + nilai_2\n",
    "# print(f\"hasil penjumlahan = {nilai_1 + nilai_2}\")\n",
    "# print(f\"hasil pengurangan = {nilai_1 - nilai_2}\")\n",
    "# print(f\"hasil perkalian = {nilai_1 * nilai_2}\")\n",
    "# print(f\"hasil pembagian = {nilai_1 / nilai_2}\")\n",
    "# print(f\"hasil pembulatan = {nilai_1 // nilai_2}\")\n",
    "# print(f\"hasil modulo = {nilai_1 % nilai_2}\")\n",
    "# print(f\"hasil pangkat = {nilai_1 ** nilai_2}\")"
   ]
  },
  {
   "cell_type": "code",
   "execution_count": null,
   "id": "8686cbb1",
   "metadata": {},
   "outputs": [],
   "source": [
    "print(\"=== ARITMATIKA ===\")\n",
    "nilai_1 = float(input(\"Masukkan angka pertama: \"))\n",
    "nilai_2 = float(input(\"Masukkan angka kedua: \"))\n",
    "print(nilai_1)\n",
    "print(nilai_2)\n",
    "\n",
    "print(f\"hasil penjumlahan = {nilai_1 + nilai_2}\")\n",
    "print(f\"hasil pengurangan = {nilai_1 - nilai_2}\")\n",
    "print(f\"hasil perkalian = {nilai_1 * nilai_2}\")\n",
    "print(f\"hasil pembagian = {nilai_1 / nilai_2}\")\n",
    "print(f\"hasil pembulatan = {nilai_1 // nilai_2}\")\n",
    "print(f\"hasil modulo = {nilai_1 % nilai_2}\")\n",
    "print(f\"hasil pangkat = {nilai_1 ** nilai_2}\")\n",
    "\n"
   ]
  }
 ],
 "metadata": {
  "kernelspec": {
   "display_name": "Python 3",
   "language": "python",
   "name": "python3"
  },
  "language_info": {
   "codemirror_mode": {
    "name": "ipython",
    "version": 3
   },
   "file_extension": ".py",
   "mimetype": "text/x-python",
   "name": "python",
   "nbconvert_exporter": "python",
   "pygments_lexer": "ipython3",
   "version": "3.13.5"
  }
 },
 "nbformat": 4,
 "nbformat_minor": 5
}
