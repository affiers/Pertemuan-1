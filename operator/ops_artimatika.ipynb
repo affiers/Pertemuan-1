{
 "cells": [
  {
   "cell_type": "markdown",
   "id": "4cec2274",
   "metadata": {},
   "source": [
    "# Operator Aritmatika\n",
    "- `+` → operasi tambah  \n",
    "- `-` → operasi pengurangan  \n",
    "- `*` → operasi perkalian  \n",
    "- `/` → operasi pembagian  \n",
    "- `//` → operasi bagi dibulatkan ke bawah  \n",
    "- `%` → operasi modulo (sisa hasil bagi)  \n",
    "- `**` → operasi pangkat"
   ]
  },
  {
   "cell_type": "code",
   "execution_count": 1,
   "id": "3bc44485",
   "metadata": {},
   "outputs": [
    {
     "name": "stdout",
     "output_type": "stream",
     "text": [
      "=== ARITMATIKA ===\n",
      "hasil penjumlahan = 15\n",
      "hasil pengurangan = -5\n",
      "hasil perkalian = 50\n",
      "hasil pembagian = 0.5\n",
      "hasil pembulatan = 0\n",
      "hasil modulo = 5\n",
      "hasil pangkat = 9765625\n"
     ]
    }
   ],
   "source": [
    "print(\"=== ARITMATIKA ===\")\n",
    "nilai_1 = 5\n",
    "nilai_2 = 10\n",
    "\n",
    "hasil = nilai_1 + nilai_2\n",
    "print(f\"hasil penjumlahan = {nilai_1 + nilai_2}\")\n",
    "print(f\"hasil pengurangan = {nilai_1 - nilai_2}\")\n",
    "print(f\"hasil perkalian = {nilai_1 * nilai_2}\")\n",
    "print(f\"hasil pembagian = {nilai_1 / nilai_2}\")\n",
    "print(f\"hasil pembulatan = {nilai_1 // nilai_2}\")\n",
    "print(f\"hasil modulo = {nilai_1 % nilai_2}\")\n",
    "print(f\"hasil pangkat = {nilai_1 ** nilai_2}\")"
   ]
  },
  {
   "cell_type": "code",
   "execution_count": 1,
   "id": "c15470e4",
   "metadata": {},
   "outputs": [
    {
     "name": "stdout",
     "output_type": "stream",
     "text": [
      "=== ARITMATIKA ===\n",
      "Nilai 1 = 2.0\n",
      "Nilai 2 = 4.0\n",
      "hasil penjumlahan = 6.0\n",
      "hasil pengurangan = -2.0\n",
      "hasil perkalian   = 8.0\n",
      "hasil pembagian   = 0.5\n",
      "hasil pembulatan  = 0.0\n",
      "hasil modulo      = 2.0\n",
      "hasil pangkat     = 16.0\n"
     ]
    }
   ],
   "source": [
    "print(\"=== ARITMATIKA ===\")\n",
    "\n",
    "# input dari user\n",
    "nilai_1 = float(input(\"Masukkan angka pertama: \"))\n",
    "nilai_2 = float(input(\"Masukkan angka kedua: \"))\n",
    "\n",
    "# tampilkan input\n",
    "print(\"Nilai 1 =\", nilai_1)\n",
    "print(\"Nilai 2 =\", nilai_2)\n",
    "\n",
    "# operasi aritmatika\n",
    "print(f\"hasil penjumlahan = {nilai_1 + nilai_2}\")\n",
    "print(f\"hasil pengurangan = {nilai_1 - nilai_2}\")\n",
    "print(f\"hasil perkalian   = {nilai_1 * nilai_2}\")\n",
    "\n",
    "# cek agar tidak terjadi pembagian dengan 0\n",
    "if nilai_2 != 0:\n",
    "    print(f\"hasil pembagian   = {nilai_1 / nilai_2}\")\n",
    "    print(f\"hasil pembulatan  = {nilai_1 // nilai_2}\")\n",
    "    print(f\"hasil modulo      = {nilai_1 % nilai_2}\")\n",
    "else:\n",
    "    print(\"Error: Tidak bisa dibagi 0\")\n",
    "\n",
    "print(f\"hasil pangkat     = {nilai_1 ** nilai_2}\")"
   ]
  }
 ],
 "metadata": {
  "kernelspec": {
   "display_name": "Python 3",
   "language": "python",
   "name": "python3"
  },
  "language_info": {
   "codemirror_mode": {
    "name": "ipython",
    "version": 3
   },
   "file_extension": ".py",
   "mimetype": "text/x-python",
   "name": "python",
   "nbconvert_exporter": "python",
   "pygments_lexer": "ipython3",
   "version": "3.13.5"
  }
 },
 "nbformat": 4,
 "nbformat_minor": 5
}
