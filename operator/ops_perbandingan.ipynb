{
 "cells": [
  {
   "cell_type": "markdown",
   "id": "5f63e105",
   "metadata": {},
   "source": [
    "# Operator perbandingan\n",
    "Operator perbandigan adalah operator untuk membandingkan 2 nilai.\n",
    "Operator perbandingan pasti menghasilkan nilai kebenaran bool dengan kemungkinannya hanya dua nilai, yaitu benar (True) atau salah (False).\n",
    "| Operator | Deskripsi                           | Contoh   | Hasil   |\n",
    "|----------|-------------------------------------|----------|---------|\n",
    "| `==`     | Sama dengan                         | `4 == 5` | `False` |\n",
    "| `!=`     | Tidak sama dengan                   | `4 != 5` | `True`  |\n",
    "| `>`      | Lebih besar                         | `4 > 5`  | `False` |\n",
    "| `<`      | Lebih kecil                         | `4 < 5`  | `True`  |\n",
    "| `>=`     | Lebih besar atau sama dengan        | `5 >= 5` | `True`  |\n",
    "| `<=`     | Lebih kecil atau sama dengan        | `4 <= 5` | `True`  |"
   ]
  }
 ],
 "metadata": {
  "language_info": {
   "name": "python"
  }
 },
 "nbformat": 4,
 "nbformat_minor": 5
}
