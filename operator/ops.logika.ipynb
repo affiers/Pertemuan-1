{
 "cells": [
  {
   "cell_type": "markdown",
   "id": "5976a61e",
   "metadata": {},
   "source": [
    "# Operator logika\n",
    "Operator logika dipakai untuk menggabungkan ekspresi logika (True/False).\n",
    "Hasil akhirnya juga berupa True atau False.\n",
    "\n",
    "| Operator | Keterangan                 | Contoh                                | Hasil   |\n",
    "|----------|-----------------------------|---------------------------------------|---------|\n",
    "| `and`    | Logika AND (keduanya benar) | `(4 == 5) and (2 != 3)`               | `False` |\n",
    "| `or`     | Logika OR (salah satu benar)| `(4 == 5) or (2 != 3)`                | `True`  |\n",
    "| `not`    | Logika NOT (membalik nilai) | `not (2 == 3)`                        | `True`  |"
   ]
  }
 ],
 "metadata": {
  "language_info": {
   "name": "python"
  }
 },
 "nbformat": 4,
 "nbformat_minor": 5
}
